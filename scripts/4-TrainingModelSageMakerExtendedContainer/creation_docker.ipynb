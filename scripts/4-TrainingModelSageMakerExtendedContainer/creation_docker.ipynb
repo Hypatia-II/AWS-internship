{
 "cells": [
  {
   "cell_type": "markdown",
   "id": "47641559",
   "metadata": {},
   "source": [
    "## Création de l'image docker "
   ]
  },
  {
   "cell_type": "code",
   "execution_count": 201,
   "id": "9d73d6ac",
   "metadata": {},
   "outputs": [
    {
     "name": "stdout",
     "output_type": "stream",
     "text": [
      "/home/ec2-user/SageMaker/docker_test_folder\n"
     ]
    }
   ],
   "source": [
    "%cd ~/SageMaker/docker_test_folder"
   ]
  },
  {
   "cell_type": "code",
   "execution_count": 202,
   "id": "4507b2f2",
   "metadata": {},
   "outputs": [
    {
     "name": "stdout",
     "output_type": "stream",
     "text": [
      "/home/ec2-user/SageMaker/docker_test_folder\n"
     ]
    }
   ],
   "source": [
    "!pwd"
   ]
  },
  {
   "cell_type": "code",
   "execution_count": 203,
   "id": "d94db251",
   "metadata": {},
   "outputs": [
    {
     "name": "stdout",
     "output_type": "stream",
     "text": [
      "WARNING! Your password will be stored unencrypted in /home/ec2-user/.docker/config.json.\n",
      "Configure a credential helper to remove this warning. See\n",
      "https://docs.docker.com/engine/reference/commandline/login/#credentials-store\n",
      "\n",
      "Login Succeeded\n"
     ]
    }
   ],
   "source": [
    "# celui du tuto, fonctionne\n",
    "!aws ecr get-login-password --region us-east-1 | docker login --username AWS --password-stdin 763104351884.dkr.ecr.us-east-1.amazonaws.com"
   ]
  },
  {
   "cell_type": "code",
   "execution_count": 210,
   "id": "d51e8908",
   "metadata": {},
   "outputs": [
    {
     "name": "stdout",
     "output_type": "stream",
     "text": [
      "Sending build context to Docker daemon  84.48kB\n",
      "Step 1/5 : FROM 763104351884.dkr.ecr.us-east-1.amazonaws.com/pytorch-training:1.11.0-gpu-py38-cu113-ubuntu20.04-sagemaker\n",
      " ---> 997cd0129ffb\n",
      "Step 2/5 : ENV PATH=\"/opt/ml/code:${PATH}\"\n",
      " ---> Running in 625ec9c8ba71\n",
      "Removing intermediate container 625ec9c8ba71\n",
      " ---> d855fedaa581\n",
      "Step 3/5 : ENV SAGEMAKER_SUBMIT_DIRECTORY /opt/ml/code\n",
      " ---> Running in 52bd2895dacd\n",
      "Removing intermediate container 52bd2895dacd\n",
      " ---> bf58572cd5b7\n",
      "Step 4/5 : COPY requirements.txt /opt/ml/code/requirements.txt\n",
      " ---> c62af1511dce\n",
      "Step 5/5 : RUN pip install -r /opt/ml/code/requirements.txt\n",
      " ---> Running in 8bd06ae5cddc\n",
      "Requirement already satisfied: torch>=1.5 in /opt/conda/lib/python3.8/site-packages (from -r /opt/ml/code/requirements.txt (line 1)) (1.11.0+cu113)\n",
      "Collecting tensorflow==2.3.1\n",
      "  Downloading tensorflow-2.3.1-cp38-cp38-manylinux2010_x86_64.whl (320.5 MB)\n",
      "     ━━━━━━━━━━━━━━━━━━━━━━━━━━━━━━━━━━━━━ 320.5/320.5 MB 895.5 kB/s eta 0:00:00\n",
      "Collecting numpy==1.17.5\n",
      "  Downloading numpy-1.17.5-cp38-cp38-manylinux1_x86_64.whl (20.5 MB)\n",
      "     ━━━━━━━━━━━━━━━━━━━━━━━━━━━━━━━━━━━━━━━━ 20.5/20.5 MB 46.7 MB/s eta 0:00:00\n",
      "Requirement already satisfied: scipy>=0.19.0 in /opt/conda/lib/python3.8/site-packages (from -r /opt/ml/code/requirements.txt (line 4)) (1.8.0)\n",
      "Collecting numba==0.48\n",
      "  Downloading numba-0.48.0-1-cp38-cp38-manylinux2014_x86_64.whl (3.6 MB)\n",
      "     ━━━━━━━━━━━━━━━━━━━━━━━━━━━━━━━━━━━━━━━━ 3.6/3.6 MB 59.8 MB/s eta 0:00:00\n",
      "Collecting librosa==0.7.2\n",
      "  Downloading librosa-0.7.2.tar.gz (1.6 MB)\n",
      "     ━━━━━━━━━━━━━━━━━━━━━━━━━━━━━━━━━━━━━━━━ 1.6/1.6 MB 60.9 MB/s eta 0:00:00\n",
      "  Preparing metadata (setup.py): started\n",
      "  Preparing metadata (setup.py): finished with status 'done'\n",
      "Collecting phonemizer>=2.2.0\n",
      "  Downloading phonemizer-3.2.1-py3-none-any.whl (90 kB)\n",
      "     ━━━━━━━━━━━━━━━━━━━━━━━━━━━━━━━━━━━━━━━━ 90.6/90.6 KB 14.1 MB/s eta 0:00:00\n",
      "Collecting unidecode==0.4.20\n",
      "  Downloading Unidecode-0.04.20-py2.py3-none-any.whl (228 kB)\n",
      "     ━━━━━━━━━━━━━━━━━━━━━━━━━━━━━━━━━━━━━━ 228.3/228.3 KB 26.7 MB/s eta 0:00:00\n",
      "Collecting tensorboardX\n",
      "  Downloading tensorboardX-2.5.1-py2.py3-none-any.whl (125 kB)\n",
      "     ━━━━━━━━━━━━━━━━━━━━━━━━━━━━━━━━━━━━━━ 125.4/125.4 KB 20.6 MB/s eta 0:00:00\n",
      "Requirement already satisfied: matplotlib in /opt/conda/lib/python3.8/site-packages (from -r /opt/ml/code/requirements.txt (line 10)) (3.5.1)\n",
      "Requirement already satisfied: Pillow in /opt/conda/lib/python3.8/site-packages (from -r /opt/ml/code/requirements.txt (line 11)) (9.1.0)\n",
      "Collecting flask\n",
      "  Downloading Flask-2.1.2-py3-none-any.whl (95 kB)\n",
      "     ━━━━━━━━━━━━━━━━━━━━━━━━━━━━━━━━━━━━━━━━ 95.2/95.2 KB 15.9 MB/s eta 0:00:00\n",
      "Requirement already satisfied: tqdm in /opt/conda/lib/python3.8/site-packages (from -r /opt/ml/code/requirements.txt (line 13)) (4.64.0)\n",
      "Collecting inflect\n",
      "  Downloading inflect-5.6.0-py3-none-any.whl (33 kB)\n",
      "Collecting bokeh==1.4.0\n",
      "  Downloading bokeh-1.4.0.tar.gz (32.4 MB)\n",
      "     ━━━━━━━━━━━━━━━━━━━━━━━━━━━━━━━━━━━━━━━━ 32.4/32.4 MB 43.5 MB/s eta 0:00:00\n",
      "  Preparing metadata (setup.py): started\n",
      "  Preparing metadata (setup.py): finished with status 'done'\n",
      "Collecting pysbd\n",
      "  Downloading pysbd-0.3.4-py3-none-any.whl (71 kB)\n",
      "     ━━━━━━━━━━━━━━━━━━━━━━━━━━━━━━━━━━━━━━━━ 71.1/71.1 KB 11.9 MB/s eta 0:00:00\n",
      "Collecting pyworld\n",
      "  Downloading pyworld-0.3.0.tar.gz (212 kB)\n",
      "     ━━━━━━━━━━━━━━━━━━━━━━━━━━━━━━━━━━━━━━ 212.0/212.0 KB 29.1 MB/s eta 0:00:00\n",
      "  Installing build dependencies: started\n",
      "  Installing build dependencies: finished with status 'done'\n",
      "  Getting requirements to build wheel: started\n",
      "  Getting requirements to build wheel: finished with status 'done'\n",
      "  Preparing metadata (pyproject.toml): started\n",
      "  Preparing metadata (pyproject.toml): finished with status 'done'\n",
      "Collecting termcolor>=1.1.0\n",
      "  Downloading termcolor-1.1.0.tar.gz (3.9 kB)\n",
      "  Preparing metadata (setup.py): started\n",
      "  Preparing metadata (setup.py): finished with status 'done'\n",
      "Collecting tensorboard<3,>=2.3.0\n",
      "  Downloading tensorboard-2.9.1-py3-none-any.whl (5.8 MB)\n",
      "     ━━━━━━━━━━━━━━━━━━━━━━━━━━━━━━━━━━━━━━━━ 5.8/5.8 MB 68.7 MB/s eta 0:00:00\n",
      "Collecting opt-einsum>=2.3.2\n",
      "  Downloading opt_einsum-3.3.0-py3-none-any.whl (65 kB)\n",
      "     ━━━━━━━━━━━━━━━━━━━━━━━━━━━━━━━━━━━━━━━━ 65.5/65.5 KB 12.3 MB/s eta 0:00:00\n",
      "Requirement already satisfied: wheel>=0.26 in /opt/conda/lib/python3.8/site-packages (from tensorflow==2.3.1->-r /opt/ml/code/requirements.txt (line 2)) (0.37.1)\n",
      "Requirement already satisfied: six>=1.12.0 in /opt/conda/lib/python3.8/site-packages (from tensorflow==2.3.1->-r /opt/ml/code/requirements.txt (line 2)) (1.16.0)\n",
      "Collecting wrapt>=1.11.1\n",
      "  Downloading wrapt-1.14.1-cp38-cp38-manylinux_2_5_x86_64.manylinux1_x86_64.manylinux_2_17_x86_64.manylinux2014_x86_64.whl (81 kB)\n",
      "     ━━━━━━━━━━━━━━━━━━━━━━━━━━━━━━━━━━━━━━━━ 81.0/81.0 KB 13.6 MB/s eta 0:00:00\n",
      "Collecting gast==0.3.3\n",
      "  Downloading gast-0.3.3-py2.py3-none-any.whl (9.7 kB)\n",
      "Collecting absl-py>=0.7.0\n",
      "  Downloading absl_py-1.1.0-py3-none-any.whl (123 kB)\n",
      "     ━━━━━━━━━━━━━━━━━━━━━━━━━━━━━━━━━━━━━━ 123.7/123.7 KB 20.7 MB/s eta 0:00:00\n",
      "Collecting keras-preprocessing<1.2,>=1.1.1\n",
      "  Downloading Keras_Preprocessing-1.1.2-py2.py3-none-any.whl (42 kB)\n",
      "     ━━━━━━━━━━━━━━━━━━━━━━━━━━━━━━━━━━━━━━━━ 42.6/42.6 KB 7.9 MB/s eta 0:00:00\n",
      "Collecting h5py<2.11.0,>=2.10.0\n",
      "  Downloading h5py-2.10.0-cp38-cp38-manylinux1_x86_64.whl (2.9 MB)\n",
      "     ━━━━━━━━━━━━━━━━━━━━━━━━━━━━━━━━━━━━━━━━ 2.9/2.9 MB 66.2 MB/s eta 0:00:00\n",
      "Requirement already satisfied: protobuf>=3.9.2 in /opt/conda/lib/python3.8/site-packages (from tensorflow==2.3.1->-r /opt/ml/code/requirements.txt (line 2)) (3.20.1)\n",
      "Requirement already satisfied: google-pasta>=0.1.8 in /opt/conda/lib/python3.8/site-packages (from tensorflow==2.3.1->-r /opt/ml/code/requirements.txt (line 2)) (0.2.0)\n",
      "Collecting grpcio>=1.8.6\n",
      "  Downloading grpcio-1.46.3-cp38-cp38-manylinux_2_17_x86_64.manylinux2014_x86_64.whl (4.4 MB)\n",
      "     ━━━━━━━━━━━━━━━━━━━━━━━━━━━━━━━━━━━━━━━━ 4.4/4.4 MB 64.0 MB/s eta 0:00:00\n",
      "Collecting tensorflow-estimator<2.4.0,>=2.3.0\n",
      "  Downloading tensorflow_estimator-2.3.0-py2.py3-none-any.whl (459 kB)\n",
      "     ━━━━━━━━━━━━━━━━━━━━━━━━━━━━━━━━━━━━━━ 459.0/459.0 KB 45.3 MB/s eta 0:00:00\n",
      "Collecting astunparse==1.6.3\n",
      "  Downloading astunparse-1.6.3-py2.py3-none-any.whl (12 kB)\n",
      "Collecting llvmlite<0.32.0,>=0.31.0dev0\n",
      "  Downloading llvmlite-0.31.0-cp38-cp38-manylinux1_x86_64.whl (20.2 MB)\n",
      "     ━━━━━━━━━━━━━━━━━━━━━━━━━━━━━━━━━━━━━━━━ 20.2/20.2 MB 50.0 MB/s eta 0:00:00\n",
      "Requirement already satisfied: setuptools in /opt/conda/lib/python3.8/site-packages (from numba==0.48->-r /opt/ml/code/requirements.txt (line 5)) (62.1.0)\n",
      "Collecting audioread>=2.0.0\n",
      "  Downloading audioread-2.1.9.tar.gz (377 kB)\n",
      "     ━━━━━━━━━━━━━━━━━━━━━━━━━━━━━━━━━━━━━━ 377.5/377.5 KB 46.2 MB/s eta 0:00:00\n",
      "  Preparing metadata (setup.py): started\n",
      "  Preparing metadata (setup.py): finished with status 'done'\n",
      "Requirement already satisfied: scikit-learn!=0.19.0,>=0.14.0 in /opt/conda/lib/python3.8/site-packages (from librosa==0.7.2->-r /opt/ml/code/requirements.txt (line 6)) (1.0.2)\n",
      "Requirement already satisfied: joblib>=0.12 in /opt/conda/lib/python3.8/site-packages (from librosa==0.7.2->-r /opt/ml/code/requirements.txt (line 6)) (1.1.0)\n",
      "Requirement already satisfied: decorator>=3.0.0 in /opt/conda/lib/python3.8/site-packages (from librosa==0.7.2->-r /opt/ml/code/requirements.txt (line 6)) (5.1.1)\n",
      "Collecting resampy>=0.2.2\n",
      "  Downloading resampy-0.2.2.tar.gz (323 kB)\n",
      "     ━━━━━━━━━━━━━━━━━━━━━━━━━━━━━━━━━━━━━━ 323.4/323.4 KB 38.2 MB/s eta 0:00:00\n",
      "  Preparing metadata (setup.py): started\n",
      "  Preparing metadata (setup.py): finished with status 'done'\n",
      "Collecting soundfile>=0.9.0\n",
      "  Downloading SoundFile-0.10.3.post1-py2.py3-none-any.whl (21 kB)\n",
      "Requirement already satisfied: PyYAML>=3.10 in /opt/conda/lib/python3.8/site-packages (from bokeh==1.4.0->-r /opt/ml/code/requirements.txt (line 15)) (5.4.1)\n",
      "Requirement already satisfied: python-dateutil>=2.1 in /opt/conda/lib/python3.8/site-packages (from bokeh==1.4.0->-r /opt/ml/code/requirements.txt (line 15)) (2.8.2)\n",
      "Requirement already satisfied: Jinja2>=2.7 in /opt/conda/lib/python3.8/site-packages (from bokeh==1.4.0->-r /opt/ml/code/requirements.txt (line 15)) (3.1.2)\n",
      "Requirement already satisfied: packaging>=16.8 in /opt/conda/lib/python3.8/site-packages (from bokeh==1.4.0->-r /opt/ml/code/requirements.txt (line 15)) (21.3)\n",
      "Requirement already satisfied: tornado>=4.3 in /opt/conda/lib/python3.8/site-packages (from bokeh==1.4.0->-r /opt/ml/code/requirements.txt (line 15)) (6.1)\n",
      "Requirement already satisfied: typing-extensions in /opt/conda/lib/python3.8/site-packages (from torch>=1.5->-r /opt/ml/code/requirements.txt (line 1)) (4.2.0)\n",
      "Collecting segments\n",
      "  Downloading segments-2.2.0-py2.py3-none-any.whl (15 kB)\n",
      "Requirement already satisfied: attrs>=18.1 in /opt/conda/lib/python3.8/site-packages (from phonemizer>=2.2.0->-r /opt/ml/code/requirements.txt (line 7)) (20.3.0)\n",
      "Collecting dlinfo\n",
      "  Downloading dlinfo-1.2.1-py3-none-any.whl (3.6 kB)\n",
      "Requirement already satisfied: pyparsing>=2.2.1 in /opt/conda/lib/python3.8/site-packages (from matplotlib->-r /opt/ml/code/requirements.txt (line 10)) (3.0.8)\n",
      "Requirement already satisfied: cycler>=0.10 in /opt/conda/lib/python3.8/site-packages (from matplotlib->-r /opt/ml/code/requirements.txt (line 10)) (0.11.0)\n",
      "Requirement already satisfied: fonttools>=4.22.0 in /opt/conda/lib/python3.8/site-packages (from matplotlib->-r /opt/ml/code/requirements.txt (line 10)) (4.33.3)\n",
      "Requirement already satisfied: kiwisolver>=1.0.1 in /opt/conda/lib/python3.8/site-packages (from matplotlib->-r /opt/ml/code/requirements.txt (line 10)) (1.4.2)\n",
      "Requirement already satisfied: click>=8.0 in /opt/conda/lib/python3.8/site-packages (from flask->-r /opt/ml/code/requirements.txt (line 12)) (8.1.3)\n",
      "Collecting itsdangerous>=2.0\n",
      "  Downloading itsdangerous-2.1.2-py3-none-any.whl (15 kB)\n",
      "Requirement already satisfied: Werkzeug>=2.0 in /opt/conda/lib/python3.8/site-packages (from flask->-r /opt/ml/code/requirements.txt (line 12)) (2.1.2)\n",
      "Requirement already satisfied: importlib-metadata>=3.6.0 in /opt/conda/lib/python3.8/site-packages (from flask->-r /opt/ml/code/requirements.txt (line 12)) (4.11.3)\n",
      "Requirement already satisfied: cython>=0.24.0 in /opt/conda/lib/python3.8/site-packages (from pyworld->-r /opt/ml/code/requirements.txt (line 17)) (0.29.28)\n",
      "Requirement already satisfied: zipp>=0.5 in /opt/conda/lib/python3.8/site-packages (from importlib-metadata>=3.6.0->flask->-r /opt/ml/code/requirements.txt (line 12)) (3.8.0)\n",
      "Requirement already satisfied: MarkupSafe>=2.0 in /opt/conda/lib/python3.8/site-packages (from Jinja2>=2.7->bokeh==1.4.0->-r /opt/ml/code/requirements.txt (line 15)) (2.1.1)\n",
      "Requirement already satisfied: threadpoolctl>=2.0.0 in /opt/conda/lib/python3.8/site-packages (from scikit-learn!=0.19.0,>=0.14.0->librosa==0.7.2->-r /opt/ml/code/requirements.txt (line 6)) (3.1.0)\n",
      "Requirement already satisfied: cffi>=1.0 in /opt/conda/lib/python3.8/site-packages (from soundfile>=0.9.0->librosa==0.7.2->-r /opt/ml/code/requirements.txt (line 6)) (1.15.0)\n",
      "Collecting tensorboard-plugin-wit>=1.6.0\n",
      "  Downloading tensorboard_plugin_wit-1.8.1-py3-none-any.whl (781 kB)\n",
      "     ━━━━━━━━━━━━━━━━━━━━━━━━━━━━━━━━━━━━━━ 781.3/781.3 KB 52.3 MB/s eta 0:00:00\n",
      "Collecting protobuf>=3.9.2\n",
      "  Downloading protobuf-3.19.4-cp38-cp38-manylinux_2_17_x86_64.manylinux2014_x86_64.whl (1.1 MB)\n",
      "     ━━━━━━━━━━━━━━━━━━━━━━━━━━━━━━━━━━━━━━━━ 1.1/1.1 MB 55.5 MB/s eta 0:00:00\n",
      "Collecting tensorboard-data-server<0.7.0,>=0.6.0\n",
      "  Downloading tensorboard_data_server-0.6.1-py3-none-manylinux2010_x86_64.whl (4.9 MB)\n",
      "     ━━━━━━━━━━━━━━━━━━━━━━━━━━━━━━━━━━━━━━━━ 4.9/4.9 MB 68.9 MB/s eta 0:00:00\n",
      "Requirement already satisfied: requests<3,>=2.21.0 in /opt/conda/lib/python3.8/site-packages (from tensorboard<3,>=2.3.0->tensorflow==2.3.1->-r /opt/ml/code/requirements.txt (line 2)) (2.27.1)\n",
      "Collecting google-auth-oauthlib<0.5,>=0.4.1\n",
      "  Downloading google_auth_oauthlib-0.4.6-py2.py3-none-any.whl (18 kB)\n",
      "Collecting markdown>=2.6.8\n",
      "  Downloading Markdown-3.3.7-py3-none-any.whl (97 kB)\n",
      "     ━━━━━━━━━━━━━━━━━━━━━━━━━━━━━━━━━━━━━━━━ 97.8/97.8 KB 15.7 MB/s eta 0:00:00\n",
      "Collecting google-auth<3,>=1.6.3\n",
      "  Downloading google_auth-2.7.0-py2.py3-none-any.whl (160 kB)\n",
      "     ━━━━━━━━━━━━━━━━━━━━━━━━━━━━━━━━━━━━━━ 160.7/160.7 KB 26.1 MB/s eta 0:00:00\n",
      "Collecting regex\n",
      "  Downloading regex-2022.6.2-cp38-cp38-manylinux_2_17_x86_64.manylinux2014_x86_64.whl (764 kB)\n",
      "     ━━━━━━━━━━━━━━━━━━━━━━━━━━━━━━━━━━━━━━ 764.9/764.9 KB 50.7 MB/s eta 0:00:00\n",
      "Collecting csvw>=1.5.6\n",
      "  Downloading csvw-2.0.0-py2.py3-none-any.whl (35 kB)\n",
      "Collecting clldutils>=1.7.3\n",
      "  Downloading clldutils-3.12.0-py2.py3-none-any.whl (197 kB)\n",
      "     ━━━━━━━━━━━━━━━━━━━━━━━━━━━━━━━━━━━━━━ 197.6/197.6 KB 27.0 MB/s eta 0:00:00\n",
      "Requirement already satisfied: pycparser in /opt/conda/lib/python3.8/site-packages (from cffi>=1.0->soundfile>=0.9.0->librosa==0.7.2->-r /opt/ml/code/requirements.txt (line 6)) (2.21)\n",
      "Requirement already satisfied: tabulate>=0.7.7 in /opt/conda/lib/python3.8/site-packages (from clldutils>=1.7.3->segments->phonemizer>=2.2.0->-r /opt/ml/code/requirements.txt (line 7)) (0.8.9)\n",
      "Collecting colorlog\n",
      "  Downloading colorlog-6.6.0-py2.py3-none-any.whl (11 kB)\n",
      "Collecting rfc3986<2\n",
      "  Downloading rfc3986-1.5.0-py2.py3-none-any.whl (31 kB)\n",
      "Collecting uritemplate>=3.0.0\n",
      "  Downloading uritemplate-4.1.1-py2.py3-none-any.whl (10 kB)\n",
      "Collecting isodate\n",
      "  Downloading isodate-0.6.1-py2.py3-none-any.whl (41 kB)\n",
      "     ━━━━━━━━━━━━━━━━━━━━━━━━━━━━━━━━━━━━━━━━ 41.7/41.7 KB 6.5 MB/s eta 0:00:00\n",
      "Collecting cachetools<6.0,>=2.0.0\n",
      "  Downloading cachetools-5.2.0-py3-none-any.whl (9.3 kB)\n",
      "Requirement already satisfied: rsa<5,>=3.1.4 in /opt/conda/lib/python3.8/site-packages (from google-auth<3,>=1.6.3->tensorboard<3,>=2.3.0->tensorflow==2.3.1->-r /opt/ml/code/requirements.txt (line 2)) (4.7.2)\n",
      "Collecting pyasn1-modules>=0.2.1\n",
      "  Downloading pyasn1_modules-0.2.8-py2.py3-none-any.whl (155 kB)\n",
      "     ━━━━━━━━━━━━━━━━━━━━━━━━━━━━━━━━━━━━━━ 155.3/155.3 KB 17.1 MB/s eta 0:00:00\n",
      "Collecting requests-oauthlib>=0.7.0\n",
      "  Downloading requests_oauthlib-1.3.1-py2.py3-none-any.whl (23 kB)\n",
      "Requirement already satisfied: certifi>=2017.4.17 in /opt/conda/lib/python3.8/site-packages (from requests<3,>=2.21.0->tensorboard<3,>=2.3.0->tensorflow==2.3.1->-r /opt/ml/code/requirements.txt (line 2)) (2021.10.8)\n",
      "Requirement already satisfied: urllib3<1.27,>=1.21.1 in /opt/conda/lib/python3.8/site-packages (from requests<3,>=2.21.0->tensorboard<3,>=2.3.0->tensorflow==2.3.1->-r /opt/ml/code/requirements.txt (line 2)) (1.26.9)\n",
      "Requirement already satisfied: idna<4,>=2.5 in /opt/conda/lib/python3.8/site-packages (from requests<3,>=2.21.0->tensorboard<3,>=2.3.0->tensorflow==2.3.1->-r /opt/ml/code/requirements.txt (line 2)) (3.3)\n",
      "Requirement already satisfied: charset-normalizer~=2.0.0 in /opt/conda/lib/python3.8/site-packages (from requests<3,>=2.21.0->tensorboard<3,>=2.3.0->tensorflow==2.3.1->-r /opt/ml/code/requirements.txt (line 2)) (2.0.12)\n",
      "Requirement already satisfied: pyasn1<0.5.0,>=0.4.6 in /opt/conda/lib/python3.8/site-packages (from pyasn1-modules>=0.2.1->google-auth<3,>=1.6.3->tensorboard<3,>=2.3.0->tensorflow==2.3.1->-r /opt/ml/code/requirements.txt (line 2)) (0.4.8)\n",
      "Collecting oauthlib>=3.0.0\n",
      "  Downloading oauthlib-3.2.0-py3-none-any.whl (151 kB)\n",
      "     ━━━━━━━━━━━━━━━━━━━━━━━━━━━━━━━━━━━━━━ 151.5/151.5 KB 22.0 MB/s eta 0:00:00\n",
      "Building wheels for collected packages: librosa, bokeh, pyworld, audioread, resampy, termcolor\n",
      "  Building wheel for librosa (setup.py): started\n",
      "  Building wheel for librosa (setup.py): finished with status 'done'\n",
      "  Created wheel for librosa: filename=librosa-0.7.2-py3-none-any.whl size=1612900 sha256=78eaf9fa96a96bd768102983980b1a489656519a9b25c86abde17a7682d81249\n",
      "  Stored in directory: /root/.cache/pip/wheels/11/f0/b0/a8f9944f274bbc0f0159f2268f43dadcfa1cfe50a9007d8e1f\n",
      "  Building wheel for bokeh (setup.py): started\n",
      "  Building wheel for bokeh (setup.py): finished with status 'done'\n",
      "  Created wheel for bokeh: filename=bokeh-1.4.0-py3-none-any.whl size=23689210 sha256=a776d4150269394c94f5546c08f1de0aad35cd327a93452415708a7222453737\n",
      "  Stored in directory: /root/.cache/pip/wheels/4a/79/96/e953cfb5c24da5e5e03eb1ecb280ca88dce65661fb4d38c7b5\n",
      "  Building wheel for pyworld (pyproject.toml): started\n",
      "  Building wheel for pyworld (pyproject.toml): finished with status 'done'\n",
      "  Created wheel for pyworld: filename=pyworld-0.3.0-cp38-cp38-linux_x86_64.whl size=208612 sha256=d94e6867c23ede7c545afc59883c3669bdfe2f1988458ac4ef932066849bbe20\n",
      "  Stored in directory: /root/.cache/pip/wheels/b7/9d/77/c12111ca99a5a889f7b3a44b55308f7bd230ea9dbaa2a99613\n",
      "  Building wheel for audioread (setup.py): started\n",
      "  Building wheel for audioread (setup.py): finished with status 'done'\n",
      "  Created wheel for audioread: filename=audioread-2.1.9-py3-none-any.whl size=23153 sha256=8d6e197f259cfe3beecf89f28afc5554bad45b0bd7790b0dc01293234da39d80\n",
      "  Stored in directory: /root/.cache/pip/wheels/49/5a/e4/df590783499a992a88de6c0898991d1167453a3196d0d1eeb7\n",
      "  Building wheel for resampy (setup.py): started\n",
      "  Building wheel for resampy (setup.py): finished with status 'done'\n",
      "  Created wheel for resampy: filename=resampy-0.2.2-py3-none-any.whl size=320732 sha256=74ce553fdae114ac98faa5d6a36d119277bf020b8062edb1f083bd2ecd40cb04\n",
      "  Stored in directory: /root/.cache/pip/wheels/6f/d1/5d/f13da53b1dcbc2624ff548456c9ffb526c914f53c12c318bb4\n",
      "  Building wheel for termcolor (setup.py): started\n",
      "  Building wheel for termcolor (setup.py): finished with status 'done'\n",
      "  Created wheel for termcolor: filename=termcolor-1.1.0-py3-none-any.whl size=4848 sha256=36c7e0b6987bd7bd4d4d13958659ed2bd651e2e018318f8ef3176ee2aacadf7e\n",
      "  Stored in directory: /root/.cache/pip/wheels/a0/16/9c/5473df82468f958445479c59e784896fa24f4a5fc024b0f501\n",
      "Successfully built librosa bokeh pyworld audioread resampy termcolor\n",
      "Installing collected packages: unidecode, termcolor, tensorflow-estimator, tensorboard-plugin-wit, rfc3986, llvmlite, dlinfo, audioread, wrapt, uritemplate, tensorboard-data-server, regex, pysbd, pyasn1-modules, protobuf, oauthlib, numpy, itsdangerous, isodate, inflect, grpcio, gast, colorlog, cachetools, astunparse, absl-py, tensorboardX, soundfile, requests-oauthlib, pyworld, opt-einsum, numba, markdown, keras-preprocessing, h5py, google-auth, flask, csvw, bokeh, resampy, google-auth-oauthlib, clldutils, tensorboard, segments, librosa, tensorflow, phonemizer\n",
      "  Attempting uninstall: llvmlite\n",
      "    Found existing installation: llvmlite 0.36.0\n",
      "    Uninstalling llvmlite-0.36.0:\n",
      "      Successfully uninstalled llvmlite-0.36.0\n",
      "  Attempting uninstall: protobuf\n",
      "    Found existing installation: protobuf 3.20.1\n",
      "    Uninstalling protobuf-3.20.1:\n",
      "      Successfully uninstalled protobuf-3.20.1\n",
      "  Attempting uninstall: numpy\n",
      "    Found existing installation: numpy 1.22.2\n",
      "    Uninstalling numpy-1.22.2:\n",
      "      Successfully uninstalled numpy-1.22.2\n",
      "  Attempting uninstall: numba\n",
      "    Found existing installation: numba 0.53.1\n",
      "    Uninstalling numba-0.53.1:\n",
      "      Successfully uninstalled numba-0.53.1\n",
      "  Attempting uninstall: h5py\n",
      "    Found existing installation: h5py 3.6.0\n",
      "    Uninstalling h5py-3.6.0:\n",
      "      Successfully uninstalled h5py-3.6.0\n",
      "  Attempting uninstall: bokeh\n",
      "    Found existing installation: bokeh 2.4.2\n",
      "    Uninstalling bokeh-2.4.2:\n",
      "      Successfully uninstalled bokeh-2.4.2\n",
      "\u001b[91mERROR: pip's dependency resolver does not currently take into account all the packages that are installed. This behaviour is the source of the following dependency conflicts.\n",
      "pandas 1.4.2 requires numpy>=1.18.5, but you have numpy 1.17.5 which is incompatible.\n",
      "\u001b[0mSuccessfully installed absl-py-1.1.0 astunparse-1.6.3 audioread-2.1.9 bokeh-1.4.0 cachetools-5.2.0 clldutils-3.12.0 colorlog-6.6.0 csvw-2.0.0 dlinfo-1.2.1 flask-2.1.2 gast-0.3.3 google-auth-2.7.0 google-auth-oauthlib-0.4.6 grpcio-1.46.3 h5py-2.10.0 inflect-5.6.0 isodate-0.6.1 itsdangerous-2.1.2 keras-preprocessing-1.1.2 librosa-0.7.2 llvmlite-0.31.0 markdown-3.3.7 numba-0.48.0 numpy-1.17.5 oauthlib-3.2.0 opt-einsum-3.3.0 phonemizer-3.2.1 protobuf-3.19.4 pyasn1-modules-0.2.8 pysbd-0.3.4 pyworld-0.3.0 regex-2022.6.2 requests-oauthlib-1.3.1 resampy-0.2.2 rfc3986-1.5.0 segments-2.2.0 soundfile-0.10.3.post1 tensorboard-2.9.1 tensorboard-data-server-0.6.1 tensorboard-plugin-wit-1.8.1 tensorboardX-2.5.1 tensorflow-2.3.1 tensorflow-estimator-2.3.0 termcolor-1.1.0 unidecode-0.4.20 uritemplate-4.1.1 wrapt-1.14.1\n",
      "\u001b[91mWARNING: Running pip as the 'root' user can result in broken permissions and conflicting behaviour with the system package manager. It is recommended to use a virtual environment instead: https://pip.pypa.io/warnings/venv\n",
      "\u001b[0mError processing tar file(exit status 1): write /opt/conda/lib/python3.8/site-packages/tensorflow/python/_pywrap_tensorflow_internal.so: no space left on device\n"
     ]
    }
   ],
   "source": [
    "!docker build -t extend_container_tts ."
   ]
  },
  {
   "cell_type": "code",
   "execution_count": 207,
   "id": "d14a089b",
   "metadata": {},
   "outputs": [
    {
     "name": "stdout",
     "output_type": "stream",
     "text": [
      "Client:\n",
      " Context:    default\n",
      " Debug Mode: false\n",
      "\n",
      "Server:\n",
      " Containers: 2\n",
      "  Running: 0\n",
      "  Paused: 0\n",
      "  Stopped: 2\n",
      " Images: 4\n",
      " Server Version: 20.10.7\n",
      " Storage Driver: overlay2\n",
      "  Backing Filesystem: extfs\n",
      "  Supports d_type: true\n",
      "  Native Overlay Diff: true\n",
      "  userxattr: false\n",
      " Logging Driver: json-file\n",
      " Cgroup Driver: cgroupfs\n",
      " Cgroup Version: 1\n",
      " Plugins:\n",
      "  Volume: local\n",
      "  Network: bridge host ipvlan macvlan null overlay\n",
      "  Log: awslogs fluentd gcplogs gelf journald json-file local logentries splunk syslog\n",
      " Swarm: inactive\n",
      " Runtimes: io.containerd.runc.v2 io.containerd.runtime.v1.linux nvidia runc\n",
      " Default Runtime: runc\n",
      " Init Binary: docker-init\n",
      " containerd version: d71fcd7d8303cbf684402823e425e9dd2e99285d\n",
      " runc version: %runc_commit\n",
      " init version: de40ad0\n",
      " Security Options:\n",
      "  seccomp\n",
      "   Profile: default\n",
      " Kernel Version: 4.14.252-131.483.amzn1.x86_64\n",
      " Operating System: Amazon Linux AMI 2018.03\n",
      " OSType: linux\n",
      " Architecture: x86_64\n",
      " CPUs: 2\n",
      " Total Memory: 3.853GiB\n",
      " Name: ip-172-16-17-137\n",
      " ID: EWMA:IFXD:Z2WF:FTUQ:VBDO:I5A7:S7G5:TM73:SAY6:IROL:LXBD:43R7\n",
      " Docker Root Dir: /var/lib/docker\n",
      " Debug Mode: false\n",
      " Registry: https://index.docker.io/v1/\n",
      " Labels:\n",
      " Experimental: false\n",
      " Insecure Registries:\n",
      "  127.0.0.0/8\n",
      " Live Restore Enabled: false\n",
      "\n"
     ]
    }
   ],
   "source": [
    "!docker info"
   ]
  },
  {
   "cell_type": "code",
   "execution_count": 94,
   "id": "7c0421c7",
   "metadata": {},
   "outputs": [
    {
     "name": "stdout",
     "output_type": "stream",
     "text": [
      "WARNING! This will remove:\n",
      "  - all stopped containers\n",
      "  - all networks not used by at least one container\n",
      "  - all dangling images\n",
      "  - all dangling build cache\n",
      "\n",
      "Are you sure you want to continue? [y/N] ^C\n"
     ]
    },
    {
     "ename": "NameError",
     "evalue": "name 'y' is not defined",
     "output_type": "error",
     "traceback": [
      "\u001b[0;31m---------------------------------------------------------------------------\u001b[0m",
      "\u001b[0;31mNameError\u001b[0m                                 Traceback (most recent call last)",
      "\u001b[0;32m<ipython-input-94-77fa2a22dba4>\u001b[0m in \u001b[0;36m<module>\u001b[0;34m\u001b[0m\n\u001b[1;32m      1\u001b[0m \u001b[0mget_ipython\u001b[0m\u001b[0;34m(\u001b[0m\u001b[0;34m)\u001b[0m\u001b[0;34m.\u001b[0m\u001b[0msystem\u001b[0m\u001b[0;34m(\u001b[0m\u001b[0;34m'docker system prune'\u001b[0m\u001b[0;34m)\u001b[0m\u001b[0;34m\u001b[0m\u001b[0;34m\u001b[0m\u001b[0m\n\u001b[0;32m----> 2\u001b[0;31m \u001b[0my\u001b[0m\u001b[0;34m\u001b[0m\u001b[0;34m\u001b[0m\u001b[0m\n\u001b[0m",
      "\u001b[0;31mNameError\u001b[0m: name 'y' is not defined"
     ]
    }
   ],
   "source": [
    "!docker system prune"
   ]
  },
  {
   "cell_type": "code",
   "execution_count": 213,
   "id": "d3ac1a6e",
   "metadata": {},
   "outputs": [
    {
     "name": "stdout",
     "output_type": "stream",
     "text": [
      "REPOSITORY   TAG       IMAGE ID   CREATED   SIZE\n"
     ]
    }
   ],
   "source": [
    "!docker image ls"
   ]
  },
  {
   "cell_type": "code",
   "execution_count": 108,
   "id": "35e4766e",
   "metadata": {},
   "outputs": [
    {
     "name": "stdout",
     "output_type": "stream",
     "text": [
      "Untagged: 763104351884.dkr.ecr.us-east-1.amazonaws.com/pytorch-training:1.11.0-gpu-py38-cu113-ubuntu20.04-sagemaker\n",
      "Untagged: 763104351884.dkr.ecr.us-east-1.amazonaws.com/pytorch-training@sha256:3f916dfbac13e51baad45b0b319d98d2088cc918b8d490cb4ba8dbeac5a3891f\n",
      "Deleted: sha256:997cd0129ffb19db1d300b3993e0b359d653c950744d99843fe83b77f00f5dad\n"
     ]
    }
   ],
   "source": [
    "!docker image rm 997cd0129ffb -f"
   ]
  },
  {
   "cell_type": "code",
   "execution_count": 211,
   "id": "26575b18",
   "metadata": {},
   "outputs": [
    {
     "name": "stdout",
     "output_type": "stream",
     "text": [
      "TYPE            TOTAL     ACTIVE    SIZE      RECLAIMABLE\n",
      "Images          2         1         14.15GB   14.15GB (99%)\n",
      "Containers      1         0         1.674GB   1.674GB (100%)\n",
      "Local Volumes   0         0         0B        0B\n",
      "Build Cache     0         0         0B        0B\n"
     ]
    }
   ],
   "source": [
    "!docker system df"
   ]
  },
  {
   "cell_type": "code",
   "execution_count": 63,
   "id": "755cf7cc",
   "metadata": {},
   "outputs": [],
   "source": [
    "!sudo vgs"
   ]
  },
  {
   "cell_type": "code",
   "execution_count": 75,
   "id": "96bacb19",
   "metadata": {},
   "outputs": [],
   "source": [
    "!docker info | grep \"Data Space\""
   ]
  },
  {
   "cell_type": "code",
   "execution_count": 66,
   "id": "e1e630c0",
   "metadata": {},
   "outputs": [
    {
     "name": "stdout",
     "output_type": "stream",
     "text": [
      "creation_docker.ipynb  Dockerfile  test_docker.ipynb  TTS\n"
     ]
    }
   ],
   "source": [
    "!ls"
   ]
  },
  {
   "cell_type": "code",
   "execution_count": 214,
   "id": "3776508f",
   "metadata": {},
   "outputs": [
    {
     "name": "stdout",
     "output_type": "stream",
     "text": [
      "Filesystem      Size  Used Avail Use% Mounted on\n",
      "devtmpfs        2.0G   64K  2.0G   1% /dev\n",
      "tmpfs           2.0G     0  2.0G   0% /dev/shm\n",
      "/dev/xvda1      109G   93G   17G  86% /\n",
      "/dev/xvdf       4.9G   21M  4.6G   1% /home/ec2-user/SageMaker\n"
     ]
    }
   ],
   "source": [
    "!df -h"
   ]
  },
  {
   "cell_type": "code",
   "execution_count": 77,
   "id": "75de72ff",
   "metadata": {},
   "outputs": [
    {
     "name": "stdout",
     "output_type": "stream",
     "text": [
      "  1078125288 /usr/local/bin/tensorflow2_latest_model_server_gpu\n",
      "  1765956552 /var/lib/docker/overlay2/74dbda85b5c6c0f40d21aef192ef1ac2a6d644f356368ddcd7d4612217f76a51/diff/opt/conda/lib/python3.8/site-packages/torch/lib/libtorch_cuda_cpp.so\n",
      "  1339361464 /home/ec2-user/anaconda3/envs/mxnet_latest_p37/gpu_cuda10.1/lib/python3.7/site-packages/mxnet/libmxnet.so\n",
      "  1051078592 /home/ec2-user/anaconda3/envs/mxnet_p36/lib/python3.6/site-packages/mxnet/libmxnet.so\n",
      "  1060556224 /home/ec2-user/anaconda3/envs/amazonei_pytorch_latest_p36/lib/python3.6/site-packages/torch/lib/libtorch_cuda.so\n",
      "  1051078592 /home/ec2-user/anaconda3/envs/mxnet_p27/lib/python2.7/site-packages/mxnet/libmxnet.so\n",
      "^C\n"
     ]
    }
   ],
   "source": [
    "!sudo find / -type f -printf '%12s %p\\n' 2>/dev/null|awk '{if($1>999999999)print $0;}'"
   ]
  },
  {
   "cell_type": "code",
   "execution_count": 116,
   "id": "fe371227",
   "metadata": {},
   "outputs": [
    {
     "name": "stdout",
     "output_type": "stream",
     "text": [
      "1\tcreation_docker.ipynb\n",
      "1\tDockerfile\n",
      "1\ttest_docker.ipynb\n",
      "125\tTTS\n",
      "125\ttotal\n"
     ]
    }
   ],
   "source": [
    "!du -smc *"
   ]
  },
  {
   "cell_type": "code",
   "execution_count": 84,
   "id": "ac2807ec",
   "metadata": {},
   "outputs": [
    {
     "name": "stdout",
     "output_type": "stream",
     "text": [
      "Sending build context to Docker daemon  157.1MB\n",
      "Step 1/6 : FROM 763104351884.dkr.ecr.us-east-1.amazonaws.com/pytorch-training:1.11.0-gpu-py38-cu113-ubuntu20.04-sagemaker\n",
      " ---> 997cd0129ffb\n",
      "Step 2/6 : ENV PATH=\"/opt/ml/code:${PATH}\"\n",
      " ---> Using cache\n",
      " ---> cf1edc900d58\n",
      "Step 3/6 : ENV SAGEMAKER_SUBMIT_DIRECTORY /opt/ml/code\n",
      " ---> Using cache\n",
      " ---> 7de9dcab016b\n",
      "Step 4/6 : COPY TTS /opt/ml/code/TTS\n",
      " ---> Using cache\n",
      " ---> 3fd07f277db5\n",
      "Step 5/6 : RUN pip install -r /opt/ml/code/TTS/requirements.txt --build /dev/xvdf\n",
      " ---> Running in b26684996b00\n",
      "\u001b[91m\n",
      "Usage:   \n",
      "  pip install [options] <requirement specifier> [package-index-options] ...\n",
      "  pip install [options] -r <requirements file> [package-index-options] ...\n",
      "  pip install [options] [-e] <vcs project url> ...\n",
      "  pip install [options] [-e] <local project path> ...\n",
      "  pip install [options] <archive url/path> ...\n",
      "\n",
      "no such option: --build\n",
      "\u001b[0mThe command '/bin/sh -c pip install -r /opt/ml/code/TTS/requirements.txt --build /dev/xvdf' returned a non-zero code: 2\n"
     ]
    }
   ],
   "source": [
    "!docker build -t extend_container_tts ."
   ]
  },
  {
   "cell_type": "code",
   "execution_count": 212,
   "id": "f26ca746",
   "metadata": {},
   "outputs": [
    {
     "name": "stdout",
     "output_type": "stream",
     "text": [
      "Filesystem      Size  Used Avail Use% Mounted on\n",
      "devtmpfs        2.0G   64K  2.0G   1% /dev\n",
      "tmpfs           2.0G     0  2.0G   0% /dev/shm\n",
      "/dev/xvda1      109G  108G  828M 100% /\n",
      "/dev/xvdf       4.9G   21M  4.6G   1% /home/ec2-user/SageMaker\n"
     ]
    }
   ],
   "source": [
    "!df -h"
   ]
  },
  {
   "cell_type": "code",
   "execution_count": 199,
   "id": "13e7b54d",
   "metadata": {},
   "outputs": [
    {
     "name": "stdout",
     "output_type": "stream",
     "text": [
      "WARNING! This will remove:\n",
      "  - all stopped containers\n",
      "  - all networks not used by at least one container\n",
      "  - all images without at least one container associated to them\n",
      "  - all build cache\n",
      "\n",
      "Are you sure you want to continue? [y/N] ^C\n"
     ]
    }
   ],
   "source": [
    "!docker system prune -a"
   ]
  },
  {
   "cell_type": "code",
   "execution_count": 125,
   "id": "978e47a7",
   "metadata": {},
   "outputs": [
    {
     "name": "stdout",
     "output_type": "stream",
     "text": [
      "CONTAINER ID   IMAGE     COMMAND   CREATED   STATUS    PORTS     NAMES     SIZE\n"
     ]
    },
    {
     "name": "stderr",
     "output_type": "stream",
     "text": [
      "Exception ignored in: <bound method PtyProcess.__del__ of PtyProcess(pid=8076, fd=49)>\n",
      "Traceback (most recent call last):\n",
      "  File \"/home/ec2-user/anaconda3/envs/pytorch_p36/lib/python3.6/site-packages/ptyprocess/ptyprocess.py\", line 377, in __del__\n",
      "    if not self.closed:\n",
      "AttributeError: 'PtyProcess' object has no attribute 'closed'\n"
     ]
    }
   ],
   "source": [
    "!docker ps -s"
   ]
  },
  {
   "cell_type": "code",
   "execution_count": 126,
   "id": "1bce77d1",
   "metadata": {},
   "outputs": [
    {
     "name": "stdout",
     "output_type": "stream",
     "text": [
      "sudo: apt: command not found\n"
     ]
    }
   ],
   "source": []
  },
  {
   "cell_type": "code",
   "execution_count": null,
   "id": "771c5f12",
   "metadata": {},
   "outputs": [],
   "source": []
  }
 ],
 "metadata": {
  "kernelspec": {
   "display_name": "conda_pytorch_p36",
   "language": "python",
   "name": "conda_pytorch_p36"
  },
  "language_info": {
   "codemirror_mode": {
    "name": "ipython",
    "version": 3
   },
   "file_extension": ".py",
   "mimetype": "text/x-python",
   "name": "python",
   "nbconvert_exporter": "python",
   "pygments_lexer": "ipython3",
   "version": "3.6.13"
  }
 },
 "nbformat": 4,
 "nbformat_minor": 5
}
