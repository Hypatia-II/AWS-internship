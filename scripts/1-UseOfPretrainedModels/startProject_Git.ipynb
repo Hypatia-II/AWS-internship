{
 "cells": [
  {
   "cell_type": "code",
   "execution_count": null,
   "metadata": {},
   "outputs": [],
   "source": [
    "# get TTS to your local\n",
    "!git clone https://github.com/mozilla/TTS"
   ]
  },
  {
   "cell_type": "code",
   "execution_count": null,
   "metadata": {},
   "outputs": [],
   "source": [
    "%cd TTS"
   ]
  },
  {
   "cell_type": "code",
   "execution_count": null,
   "metadata": {},
   "outputs": [],
   "source": [
    "# install TTS requirements\n",
    "!pip install -e .\n",
    "\n",
    "!apt-get --yes install libsndfile1-dev\n",
    "!apt-get --yes install espeak-ng"
   ]
  },
  {
   "cell_type": "code",
   "execution_count": null,
   "metadata": {},
   "outputs": [],
   "source": [
    "!pip install TTS"
   ]
  },
  {
   "cell_type": "code",
   "execution_count": null,
   "metadata": {},
   "outputs": [],
   "source": [
    "!tts --list_models"
   ]
  },
  {
   "cell_type": "raw",
   "metadata": {},
   "source": [
    " Name format: type/language/dataset/model\n",
    " 1: tts_models/multilingual/multi-dataset/your_tts\n",
    " 2: tts_models/en/ek1/tacotron2 [already downloaded]\n",
    " 3: tts_models/en/ljspeech/tacotron2-DDC\n",
    " 4: tts_models/en/ljspeech/tacotron2-DDC_ph [already downloaded]\n",
    " 5: tts_models/en/ljspeech/glow-tts [already downloaded]\n",
    " 6: tts_models/en/ljspeech/speedy-speech\n",
    " 7: tts_models/en/ljspeech/tacotron2-DCA [already downloaded]\n",
    " 8: tts_models/en/ljspeech/vits\n",
    " 9: tts_models/en/ljspeech/fast_pitch [already downloaded]\n",
    " 10: tts_models/en/vctk/vits\n",
    " 11: tts_models/en/vctk/fast_pitch\n",
    " 12: tts_models/en/sam/tacotron-DDC\n",
    " 13: tts_models/es/mai/tacotron2-DDC\n",
    " 14: tts_models/fr/mai/tacotron2-DDC\n",
    " 15: tts_models/uk/mai/glow-tts\n",
    " 16: tts_models/zh-CN/baker/tacotron2-DDC-GST\n",
    " 17: tts_models/nl/mai/tacotron2-DDC\n",
    " 18: tts_models/de/thorsten/tacotron2-DCA\n",
    " 19: tts_models/ja/kokoro/tacotron2-DDC\n",
    " 20: tts_models/tr/common-voice/glow-tts\n",
    " 21: tts_models/it/mai_female/glow-tts\n",
    " 22: tts_models/it/mai_female/vits\n",
    " 23: tts_models/it/mai_male/glow-tts\n",
    " 24: tts_models/it/mai_male/vits\n",
    " 25: tts_models/ewe/openbible/vits\n",
    " 26: tts_models/hau/openbible/vits\n",
    " 27: tts_models/lin/openbible/vits\n",
    " 28: tts_models/tw_akuapem/openbible/vits\n",
    " 29: tts_models/tw_asante/openbible/vits\n",
    " 30: tts_models/yor/openbible/vits\n",
    " 1: vocoder_models/universal/libri-tts/wavegrad [already downloaded]\n",
    " 2: vocoder_models/universal/libri-tts/fullband-melgan [already downloaded]\n",
    " 3: vocoder_models/en/ek1/wavegrad [already downloaded]\n",
    " 4: vocoder_models/en/ljspeech/multiband-melgan [already downloaded]\n",
    " 5: vocoder_models/en/ljspeech/hifigan_v2 [already downloaded]\n",
    " 6: vocoder_models/en/ljspeech/univnet [already downloaded]\n",
    " 7: vocoder_models/en/vctk/hifigan_v2 [already downloaded]\n",
    " 8: vocoder_models/en/sam/hifigan_v2 [already downloaded]\n",
    " 9: vocoder_models/nl/mai/parallel-wavegan\n",
    " 10: vocoder_models/de/thorsten/wavegrad\n",
    " 11: vocoder_models/de/thorsten/fullband-melgan\n",
    " 12: vocoder_models/ja/kokoro/hifigan_v1\n",
    " 13: vocoder_models/uk/mai/multiband-melgan\n",
    " 14: vocoder_models/tr/common-voice/hifigan"
   ]
  },
  {
   "cell_type": "code",
   "execution_count": null,
   "metadata": {},
   "outputs": [],
   "source": [
    "!tts --text \"To be or not to be that is the question: Whether ’tis nobler in the mind to suffer. The slings and arrows of outrageous fortune, Or to take arms against a sea of troubles And, by opposing, end them. To die, to sleep No more and by a sleep to say we end The heartache and the thousand natural shocks\" \\\n",
    "    --model_name \"tts_models/en/ljspeech/tacotron2-DCA\" \\\n",
    "    --vocoder_name \"vocoder_models/universal/libri-tts/fullband-melgan\" \\\n",
    "    --out_path Wavs_generated/output_audio_hamlet_tacotron2_fullbandMelgan.wav"
   ]
  },
  {
   "cell_type": "code",
   "execution_count": null,
   "metadata": {},
   "outputs": [],
   "source": [
    "!tts --text \"To be or not to be that is the question: Whether ’tis nobler in the mind to suffer. The slings and arrows of outrageous fortune, Or to take arms against a sea of troubles And, by opposing, end them. To die, to sleep No more and by a sleep to say we end The heartache and the thousand natural shocks\" \\\n",
    "    --model_name \"tts_models/en/ljspeech/glow-tts\" \\\n",
    "    --vocoder_name \"vocoder_models/en/ljspeech/hifigan_v2\" \\\n",
    "    --out_path Wavs_generated/output_audio_hamlet_glowTTS_hifiganV2.wav"
   ]
  }
 ],
 "metadata": {
  "instance_type": "ml.t3.medium",
  "kernelspec": {
   "display_name": "Python 3 (Data Science)",
   "language": "python",
   "name": "python3__SAGEMAKER_INTERNAL__arn:aws:sagemaker:eu-west-1:470317259841:image/datascience-1.0"
  },
  "language_info": {
   "codemirror_mode": {
    "name": "ipython",
    "version": 3
   },
   "file_extension": ".py",
   "mimetype": "text/x-python",
   "name": "python",
   "nbconvert_exporter": "python",
   "pygments_lexer": "ipython3",
   "version": "3.7.10"
  }
 },
 "nbformat": 4,
 "nbformat_minor": 4
}
