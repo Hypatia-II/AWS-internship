{
 "cells": [
  {
   "cell_type": "code",
   "execution_count": 1,
   "metadata": {},
   "outputs": [],
   "source": [
    "# Download the dataset at the same level than the cloned repository\n",
    "# download LJSpeech dataset\n",
    "!wget http://data.keithito.com/data/speech/LJSpeech-1.1.tar.bz2\n",
    "# decompress\n",
    "!tar -xjf LJSpeech-1.1.tar.bz2"
   ]
  },
  {
   "cell_type": "code",
   "execution_count": null,
   "metadata": {},
   "outputs": [],
   "source": [
    "#Make sure that we are inside the TTS repository\n",
    "%cd TTSs"
   ]
  },
  {
   "cell_type": "code",
   "execution_count": null,
   "metadata": {},
   "outputs": [],
   "source": [
    "# Copy the train tacotron file \n",
    "!cp /TTS/bin/train_tacotron.py ."
   ]
  },
  {
   "cell_type": "code",
   "execution_count": null,
   "metadata": {},
   "outputs": [],
   "source": [
    "# load the default config file and update with the local paths and settings.\n",
    "import json\n",
    "from TTS.utils.io import load_config\n",
    "\n",
    "CONFIG = load_config('TTS/tts/configs/config.json')\n",
    "CONFIG['datasets'][0]['path'] = '../LJSpeech-1.1/'  # set the target dataset to the LJSpeech\n",
    "CONFIG['audio']['stats_path'] = None  # do not use mean and variance stats to normalizat spectrograms. Mean and variance stats need to be computed separately. \n",
    "CONFIG['output_path'] = '../'\n",
    "with open('config.json', 'w') as fp:\n",
    "    json.dump(CONFIG, fp)"
   ]
  },
  {
   "cell_type": "code",
   "execution_count": null,
   "metadata": {},
   "outputs": [],
   "source": [
    "# pull the trigger\n",
    "!CUDA_VISIBLE_DEVICES=\"0\" python train_tacotron.py --config_path config.json | tee training.log\n",
    "# python /TTS/bin/train_tacotron.py --config_path config.json | tee training.log\n",
    "#/TTS/bin/train_tacotron.py"
   ]
  },
  {
   "cell_type": "code",
   "execution_count": null,
   "metadata": {},
   "outputs": [],
   "source": [
    "# Generate an audio file with the trained model\n",
    "# Permet de generer un fichier wav a partir d'un modele custom\n",
    "!tts --text \"To be or not to be that is the question.\"     \n",
    "    --model_path ljspeech-ddc-May-04-2022_02+00PM-e9e0784/best_model.pth.tar     --config_path TTS/config.json     \n",
    "    --out_path ljspeech-ddc-May-04-2022_02+00PM-e9e0784/hamlet.wav"
   ]
  }
 ],
 "metadata": {
  "instance_type": "ml.t3.medium",
  "interpreter": {
   "hash": "31f2aee4e71d21fbe5cf8b01ff0e069b9275f58929596ceb00d14d90e3e16cd6"
  },
  "kernelspec": {
   "display_name": "Python 3 (Data Science)",
   "language": "python",
   "name": "python3"
  },
  "language_info": {
   "codemirror_mode": {
    "name": "ipython",
    "version": 3
   },
   "file_extension": ".py",
   "mimetype": "text/x-python",
   "name": "python",
   "nbconvert_exporter": "python",
   "pygments_lexer": "ipython3",
   "version": "3.8.9"
  }
 },
 "nbformat": 4,
 "nbformat_minor": 4
}
